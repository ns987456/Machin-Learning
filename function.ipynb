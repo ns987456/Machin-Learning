{
 "cells": [
  {
   "cell_type": "code",
   "execution_count": 2,
   "metadata": {},
   "outputs": [
    {
     "name": "stdout",
     "output_type": "stream",
     "text": [
      "['a', 'b', ['c', ['d', 'e', ['f', 'g'], 'j'], 'k']]\n",
      "\n",
      "['a', 'b', ['c', ['d', 'e', ['f', 'g', 'h', 'i'], 'j'], 'k']]\n"
     ]
    }
   ],
   "source": [
    "l=['a', 'b',['c',['d','e',['f','g'],'j'],'k']]\n",
    "print(l)\n",
    "print()\n",
    "l[2][1][2].extend(['h','i'])\n",
    "print(l)"
   ]
  },
  {
   "cell_type": "code",
   "execution_count": 4,
   "metadata": {},
   "outputs": [
    {
     "name": "stdout",
     "output_type": "stream",
     "text": [
      "{'cus1': {'name': 'Hasan', 'occupation': 'baker', 'salary': 7500}, 'cus2': {'name': 'Hossein', 'occupation': 'butcher', 'salary': 8000}, 'cus3': {'name': 'Sara', 'occupation': 'farmer', 'salary': 50}}\n",
      "\n",
      "{'cus1': {'name': 'Hasan', 'occupation': 'baker', 'salary': 7500}, 'cus2': {'name': 'Hossein', 'occupation': 'butcher', 'salary': 8000}, 'cus3': {'name': 'Sara', 'occupation': 'farmer', 'salary': 5000}}\n"
     ]
    }
   ],
   "source": [
    "sample_dic={'cus1':{'name':'Hasan', 'occupation':'baker', 'salary':7500}, \n",
    "           'cus2':{'name':'Hossein', 'occupation':'butcher', 'salary':8000},\n",
    "           'cus3':{'name':'Sara', 'occupation':'farmer', 'salary':50}}\n",
    "print (sample_dic)\n",
    "print()\n",
    "sample_dic['cus3']['salary']=5000\n",
    "print(sample_dic)"
   ]
  },
  {
   "cell_type": "code",
   "execution_count": 6,
   "metadata": {},
   "outputs": [
    {
     "name": "stdout",
     "output_type": "stream",
     "text": [
      "{'key1': 'value1', 'key2': 'value2', 'key3': 'value1'}\n",
      "dict_items([('key1', 'value1'), ('key2', 'value2'), ('key3', 'value1')])\n",
      "\n",
      "{'value1': ['key1', 'key3'], 'value2': ['key2']}\n"
     ]
    }
   ],
   "source": [
    "dic_1={\"key1\":\"value1\", \"key2\":\"value2\", \"key3\":\"value1\"}\n",
    "print(dic_1)\n",
    "print(dic_1.items())\n",
    "dic_2={}\n",
    "for key, value in dic_1.items(): \n",
    "    if value in dic_2:\n",
    "        dic_2[value].append(key)\n",
    "    else: dic_2[value]=[key]\n",
    "print()\n",
    "print (dic_2)"
   ]
  },
  {
   "cell_type": "code",
   "execution_count": 7,
   "metadata": {},
   "outputs": [
    {
     "name": "stdout",
     "output_type": "stream",
     "text": [
      "Enter a desired string:Hello, World!\n",
      "\n",
      "10\n"
     ]
    }
   ],
   "source": [
    "str=input(\"Enter a desired string:\")\n",
    "dict = {}\n",
    "for n in str:\n",
    "    if n not in dict:\n",
    "        dict[n]=1\n",
    "    else: dict[n]=dict[n]+1\n",
    "        ##print(dict)\n",
    "print()        \n",
    "print(len(dict))"
   ]
  },
  {
   "cell_type": "code",
   "execution_count": 9,
   "metadata": {},
   "outputs": [
    {
     "name": "stdout",
     "output_type": "stream",
     "text": [
      "Enter your text:Python is easy\n",
      "['Python', 'is', 'easy']\n",
      "\n",
      "{'Python': 'nohtyP', 'is': 'si', 'easy': 'ysae'}\n"
     ]
    }
   ],
   "source": [
    "text= input(\"Enter your text:\")\n",
    "list_1=text.split()\n",
    "print(list_1)\n",
    "dict={}\n",
    "for n in list_1:\n",
    "    dict[n]= n[::-1]\n",
    "print()\n",
    "print(dict)"
   ]
  },
  {
   "cell_type": "code",
   "execution_count": 11,
   "metadata": {},
   "outputs": [
    {
     "name": "stdout",
     "output_type": "stream",
     "text": [
      "{'a1': [21, 17, 22, 3], 'a2': [11, 15, 8, 13], 'a3': [7, 13, 2, 11], 'a4': [22, 14, 7, 9]}\n",
      "\n",
      "{'a1': [3, 17, 21, 22], 'a2': [8, 11, 13, 15], 'a3': [2, 7, 11, 13], 'a4': [7, 9, 14, 22]}\n"
     ]
    }
   ],
   "source": [
    "d={'a1':[21,17,22,3],'a2':[11,15,8,13], 'a3':[7,13,2,11],'a4':[22,14,7,9]} \n",
    "print(d)\n",
    "d_new={}\n",
    "for key, value in d.items():\n",
    "    d_new[key]= sorted(d[key])\n",
    "print()\n",
    "print(d_new)"
   ]
  },
  {
   "cell_type": "code",
   "execution_count": 12,
   "metadata": {},
   "outputs": [
    {
     "name": "stdout",
     "output_type": "stream",
     "text": [
      "[2, 7, 11, 5, 3, 4, 9, 14, 15, 21]\n",
      "\n",
      "{2: [1, 2], 7: [1, 7], 11: [1, 11], 5: [1, 5], 3: [1, 3], 4: [1, 2, 4], 9: [1, 3, 9], 14: [1, 2, 7, 14], 15: [1, 3, 5, 15], 21: [1, 3, 7, 21]}\n"
     ]
    }
   ],
   "source": [
    "Q_7=[2,7,11,5,3,4,9,14,15,21]\n",
    "print(Q_7)\n",
    "def division(N):\n",
    "    list_1=[]\n",
    "    for x in range(1,N+1):\n",
    "        if(N%x==0):\n",
    "            list_1.append(x)\n",
    "    return list_1\n",
    "\n",
    "dict_7={}\n",
    "for n in list(Q_7):\n",
    "    dict_7[n]=division(n)\n",
    "print()    \n",
    "print(dict_7)"
   ]
  }
 ],
 "metadata": {
  "kernelspec": {
   "display_name": "Python 3",
   "language": "python",
   "name": "python3"
  },
  "language_info": {
   "codemirror_mode": {
    "name": "ipython",
    "version": 3
   },
   "file_extension": ".py",
   "mimetype": "text/x-python",
   "name": "python",
   "nbconvert_exporter": "python",
   "pygments_lexer": "ipython3",
   "version": "3.8.5"
  }
 },
 "nbformat": 4,
 "nbformat_minor": 4
}
