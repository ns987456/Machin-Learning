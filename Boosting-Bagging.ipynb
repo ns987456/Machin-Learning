{
 "cells": [
  {
   "cell_type": "code",
   "execution_count": 8,
   "id": "a4ed2352",
   "metadata": {},
   "outputs": [],
   "source": [
    "from sklearn.model_selection import train_test_split\n",
    "import numpy as np\n",
    "import pandas as pd\n",
    "import seaborn as sns\n",
    "from sklearn import datasets"
   ]
  },
  {
   "cell_type": "markdown",
   "id": "b4875055",
   "metadata": {},
   "source": [
    "# Classification - Boosting a Weak Learner\n"
   ]
  },
  {
   "cell_type": "markdown",
   "id": "f92f105c",
   "metadata": {},
   "source": [
    "#### 1. Use Scikit-learn’s sklearn.datasets.make_moons to generate three data sets of sizes 1k instances, which are called the “training”, “validation” and “testing” sets.\n"
   ]
  },
  {
   "cell_type": "code",
   "execution_count": 27,
   "id": "62195142",
   "metadata": {},
   "outputs": [],
   "source": [
    "n_samples = 1000\n",
    "\n",
    "data_train = datasets.make_moons(n_samples=n_samples) #, noise=0.05)\n",
    "type(data_train)\n",
    "X= data_train[0]\n",
    "y= data_train[1]"
   ]
  },
  {
   "cell_type": "code",
   "execution_count": 28,
   "id": "30033c14",
   "metadata": {},
   "outputs": [],
   "source": [
    "train_size=0.8\n",
    "X_train, X_rem, y_train, y_rem = train_test_split(X,y, train_size=train_size)\n",
    "test_size = 0.5\n",
    "X_valid, X_test, y_valid, y_test = train_test_split(X_rem,y_rem, test_size=test_size)"
   ]
  },
  {
   "cell_type": "markdown",
   "id": "a419b941",
   "metadata": {},
   "source": [
    "#### 2. Use Scikit-learn’s sklearn.linear_model.LogisticRegression to find best hyperparameters for classifying the validation data.\n"
   ]
  },
  {
   "cell_type": "code",
   "execution_count": 83,
   "id": "9c0add8d",
   "metadata": {},
   "outputs": [
    {
     "name": "stdout",
     "output_type": "stream",
     "text": [
      "0.88\n"
     ]
    }
   ],
   "source": [
    "from sklearn.linear_model import LogisticRegression\n",
    "from sklearn.metrics import accuracy_score\n",
    "\n",
    "# all parameters not specified are set to their defaults\n",
    "logisticRegr = LogisticRegression(C=0.2)\n",
    "logisticRegr.fit(X_train, y_train)\n",
    "predictions = logisticRegr.predict(X_valid)\n",
    "\n",
    "# Use score method to get accuracy of model\n",
    "score = logisticRegr.score(X_valid, y_valid)\n",
    "print(score)\n",
    "\n"
   ]
  },
  {
   "cell_type": "code",
   "execution_count": 94,
   "id": "850dd914",
   "metadata": {},
   "outputs": [
    {
     "data": {
      "text/plain": [
       "0.91"
      ]
     },
     "execution_count": 94,
     "metadata": {},
     "output_type": "execute_result"
    }
   ],
   "source": [
    "penalty=['l1','elasticnet','l2']\n",
    "C=range (1,1000,100)\n",
    "score_logists=[]\n",
    "\n",
    "for i in C:\n",
    "    logisticRegr = LogisticRegression(C=i, random_state = 0,solver = 'liblinear')\n",
    "    logisticRegr.fit(X_train, y_train)\n",
    "    predictions = logisticRegr.predict(X_valid)\n",
    "    # Use score method to get accuracy of model\n",
    "    score_logists.append( logisticRegr.score(X_valid, y_valid))\n",
    "\n",
    "    \n",
    "best_index= score_logists.index(max(score_logists))\n",
    "best_hyperparameter=C[best_index]\n",
    "logisticRegr = LogisticRegression(C=best_hyperparameter)\n",
    "model=logisticRegr.fit(X_train,y_train)\n",
    "y_predict_logist = model.predict(X_test)\n",
    "score_logist=(accuracy_score(y_test, y_predict_logist))\n",
    "score_logist"
   ]
  },
  {
   "cell_type": "markdown",
   "id": "2f89723e",
   "metadata": {},
   "source": [
    "#### 3. Use Scikit-learn’s sklearn.ensemble.GradientBoostingClassifier to boost your weak classifier (using validation accuracy as a heuristic).\n",
    "\n"
   ]
  },
  {
   "cell_type": "code",
   "execution_count": 108,
   "id": "913b4d2f",
   "metadata": {},
   "outputs": [
    {
     "data": {
      "text/plain": [
       "1.0"
      ]
     },
     "execution_count": 108,
     "metadata": {},
     "output_type": "execute_result"
    }
   ],
   "source": [
    "from sklearn import ensemble\n",
    "\n",
    "gbr =  ensemble.GradientBoostingClassifier( n_estimators=3, learning_rate=1.0)\n",
    "model_gbr=gbr.fit(X_train, y_train)\n",
    "y_predict_gbr = model_gbr.predict(X_valid)\n",
    "score_gbr=(accuracy_score(y_valid, y_predict_gbr))\n",
    "score_gbr"
   ]
  },
  {
   "cell_type": "markdown",
   "id": "5b256433",
   "metadata": {},
   "source": [
    "#### 4. Generate a classification report for your models and compare the classification accuracy of the models."
   ]
  },
  {
   "cell_type": "code",
   "execution_count": 110,
   "id": "e3918479",
   "metadata": {},
   "outputs": [],
   "source": [
    " from sklearn.metrics import classification_report"
   ]
  },
  {
   "cell_type": "code",
   "execution_count": 111,
   "id": "f2c0e13e",
   "metadata": {},
   "outputs": [
    {
     "name": "stdout",
     "output_type": "stream",
     "text": [
      "              precision    recall  f1-score   support\n",
      "\n",
      "           0       1.00      1.00      1.00        40\n",
      "           1       1.00      1.00      1.00        60\n",
      "\n",
      "    accuracy                           1.00       100\n",
      "   macro avg       1.00      1.00      1.00       100\n",
      "weighted avg       1.00      1.00      1.00       100\n",
      "\n"
     ]
    }
   ],
   "source": [
    "y_predict_gbr = model_gbr.predict(X_test)\n",
    "\n",
    "print(classification_report(y_test, y_predict_gbr))"
   ]
  },
  {
   "cell_type": "code",
   "execution_count": 112,
   "id": "e908eaa9",
   "metadata": {},
   "outputs": [
    {
     "name": "stdout",
     "output_type": "stream",
     "text": [
      "              precision    recall  f1-score   support\n",
      "\n",
      "           0       0.88      0.90      0.89        40\n",
      "           1       0.93      0.92      0.92        60\n",
      "\n",
      "    accuracy                           0.91       100\n",
      "   macro avg       0.91      0.91      0.91       100\n",
      "weighted avg       0.91      0.91      0.91       100\n",
      "\n"
     ]
    }
   ],
   "source": [
    "print(classification_report(y_test, y_predict_logist))"
   ]
  },
  {
   "cell_type": "markdown",
   "id": "e0677427",
   "metadata": {},
   "source": [
    "# Bagging"
   ]
  },
  {
   "cell_type": "markdown",
   "id": "93a8cfe2",
   "metadata": {},
   "source": [
    "#### 1. In the step 3 of the above exercise, use sklearn.ensemble.BaggingClassifier instead of GradientBoostingClassifier."
   ]
  },
  {
   "cell_type": "code",
   "execution_count": 119,
   "id": "f627e36e",
   "metadata": {},
   "outputs": [
    {
     "data": {
      "text/plain": [
       "0.91"
      ]
     },
     "execution_count": 119,
     "metadata": {},
     "output_type": "execute_result"
    }
   ],
   "source": [
    "from sklearn.ensemble import BaggingClassifier\n",
    "\n",
    "bgc = BaggingClassifier(base_estimator=LogisticRegression(), n_estimators=4, random_state=0)\n",
    "model_bgc=bgc.fit(X_train, y_train)\n",
    "model_bgc.predict(X_valid)\n",
    "\n",
    "y_predict_bgc = model_bgc.predict(X_test)\n",
    "score_bgc=(accuracy_score(y_test, y_predict_bgc))\n",
    "score_bgc"
   ]
  },
  {
   "cell_type": "code",
   "execution_count": 117,
   "id": "e00bf9b3",
   "metadata": {},
   "outputs": [
    {
     "name": "stdout",
     "output_type": "stream",
     "text": [
      "              precision    recall  f1-score   support\n",
      "\n",
      "           0       0.88      0.90      0.89        40\n",
      "           1       0.93      0.92      0.92        60\n",
      "\n",
      "    accuracy                           0.91       100\n",
      "   macro avg       0.91      0.91      0.91       100\n",
      "weighted avg       0.91      0.91      0.91       100\n",
      "\n"
     ]
    }
   ],
   "source": [
    "print(classification_report(y_test, y_predict_bgc))"
   ]
  },
  {
   "cell_type": "code",
   "execution_count": null,
   "id": "7a39f16f",
   "metadata": {},
   "outputs": [],
   "source": []
  }
 ],
 "metadata": {
  "kernelspec": {
   "display_name": "Python 3 (ipykernel)",
   "language": "python",
   "name": "python3"
  },
  "language_info": {
   "codemirror_mode": {
    "name": "ipython",
    "version": 3
   },
   "file_extension": ".py",
   "mimetype": "text/x-python",
   "name": "python",
   "nbconvert_exporter": "python",
   "pygments_lexer": "ipython3",
   "version": "3.9.12"
  }
 },
 "nbformat": 4,
 "nbformat_minor": 5
}
